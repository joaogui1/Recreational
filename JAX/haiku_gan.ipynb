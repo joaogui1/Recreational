{
  "nbformat": 4,
  "nbformat_minor": 0,
  "metadata": {
    "colab": {
      "name": "haiku_gan.ipynb",
      "provenance": [],
      "collapsed_sections": []
    },
    "kernelspec": {
      "name": "python3",
      "display_name": "Python 3"
    },
    "accelerator": "GPU",
    "widgets": {
      "application/vnd.jupyter.widget-state+json": {
        "3d819f04210249af824718c3729d4bb4": {
          "model_module": "@jupyter-widgets/controls",
          "model_name": "HBoxModel",
          "state": {
            "_view_name": "HBoxView",
            "_dom_classes": [],
            "_model_name": "HBoxModel",
            "_view_module": "@jupyter-widgets/controls",
            "_model_module_version": "1.5.0",
            "_view_count": null,
            "_view_module_version": "1.5.0",
            "box_style": "",
            "layout": "IPY_MODEL_8b2c562bc0794ecf942e6fb7ea10d5d0",
            "_model_module": "@jupyter-widgets/controls",
            "children": [
              "IPY_MODEL_c78c9fc873ed48cebe466ac507a0779b",
              "IPY_MODEL_8e1f3a50c9474da8940e821cdd78cbce"
            ]
          }
        },
        "8b2c562bc0794ecf942e6fb7ea10d5d0": {
          "model_module": "@jupyter-widgets/base",
          "model_name": "LayoutModel",
          "state": {
            "_view_name": "LayoutView",
            "grid_template_rows": null,
            "right": null,
            "justify_content": null,
            "_view_module": "@jupyter-widgets/base",
            "overflow": null,
            "_model_module_version": "1.2.0",
            "_view_count": null,
            "flex_flow": null,
            "width": null,
            "min_width": null,
            "border": null,
            "align_items": null,
            "bottom": null,
            "_model_module": "@jupyter-widgets/base",
            "top": null,
            "grid_column": null,
            "overflow_y": null,
            "overflow_x": null,
            "grid_auto_flow": null,
            "grid_area": null,
            "grid_template_columns": null,
            "flex": null,
            "_model_name": "LayoutModel",
            "justify_items": null,
            "grid_row": null,
            "max_height": null,
            "align_content": null,
            "visibility": null,
            "align_self": null,
            "height": null,
            "min_height": null,
            "padding": null,
            "grid_auto_rows": null,
            "grid_gap": null,
            "max_width": null,
            "order": null,
            "_view_module_version": "1.2.0",
            "grid_template_areas": null,
            "object_position": null,
            "object_fit": null,
            "grid_auto_columns": null,
            "margin": null,
            "display": null,
            "left": null
          }
        },
        "c78c9fc873ed48cebe466ac507a0779b": {
          "model_module": "@jupyter-widgets/controls",
          "model_name": "FloatProgressModel",
          "state": {
            "_view_name": "ProgressView",
            "style": "IPY_MODEL_a34f07370bd14256958fc9fc5c167b1f",
            "_dom_classes": [],
            "description": "Dl Completed...: 100%",
            "_model_name": "FloatProgressModel",
            "bar_style": "success",
            "max": 4,
            "_view_module": "@jupyter-widgets/controls",
            "_model_module_version": "1.5.0",
            "value": 4,
            "_view_count": null,
            "_view_module_version": "1.5.0",
            "orientation": "horizontal",
            "min": 0,
            "description_tooltip": null,
            "_model_module": "@jupyter-widgets/controls",
            "layout": "IPY_MODEL_1374458011d946bab62046ffb95d450a"
          }
        },
        "8e1f3a50c9474da8940e821cdd78cbce": {
          "model_module": "@jupyter-widgets/controls",
          "model_name": "HTMLModel",
          "state": {
            "_view_name": "HTMLView",
            "style": "IPY_MODEL_1888c000bffc41ea819bac891d07d38e",
            "_dom_classes": [],
            "description": "",
            "_model_name": "HTMLModel",
            "placeholder": "​",
            "_view_module": "@jupyter-widgets/controls",
            "_model_module_version": "1.5.0",
            "value": " 4/4 [00:09&lt;00:00,  2.25s/ file]",
            "_view_count": null,
            "_view_module_version": "1.5.0",
            "description_tooltip": null,
            "_model_module": "@jupyter-widgets/controls",
            "layout": "IPY_MODEL_6f1d25305ec4419d8755f3daedbdbd47"
          }
        },
        "a34f07370bd14256958fc9fc5c167b1f": {
          "model_module": "@jupyter-widgets/controls",
          "model_name": "ProgressStyleModel",
          "state": {
            "_view_name": "StyleView",
            "_model_name": "ProgressStyleModel",
            "description_width": "initial",
            "_view_module": "@jupyter-widgets/base",
            "_model_module_version": "1.5.0",
            "_view_count": null,
            "_view_module_version": "1.2.0",
            "bar_color": null,
            "_model_module": "@jupyter-widgets/controls"
          }
        },
        "1374458011d946bab62046ffb95d450a": {
          "model_module": "@jupyter-widgets/base",
          "model_name": "LayoutModel",
          "state": {
            "_view_name": "LayoutView",
            "grid_template_rows": null,
            "right": null,
            "justify_content": null,
            "_view_module": "@jupyter-widgets/base",
            "overflow": null,
            "_model_module_version": "1.2.0",
            "_view_count": null,
            "flex_flow": null,
            "width": null,
            "min_width": null,
            "border": null,
            "align_items": null,
            "bottom": null,
            "_model_module": "@jupyter-widgets/base",
            "top": null,
            "grid_column": null,
            "overflow_y": null,
            "overflow_x": null,
            "grid_auto_flow": null,
            "grid_area": null,
            "grid_template_columns": null,
            "flex": null,
            "_model_name": "LayoutModel",
            "justify_items": null,
            "grid_row": null,
            "max_height": null,
            "align_content": null,
            "visibility": null,
            "align_self": null,
            "height": null,
            "min_height": null,
            "padding": null,
            "grid_auto_rows": null,
            "grid_gap": null,
            "max_width": null,
            "order": null,
            "_view_module_version": "1.2.0",
            "grid_template_areas": null,
            "object_position": null,
            "object_fit": null,
            "grid_auto_columns": null,
            "margin": null,
            "display": null,
            "left": null
          }
        },
        "1888c000bffc41ea819bac891d07d38e": {
          "model_module": "@jupyter-widgets/controls",
          "model_name": "DescriptionStyleModel",
          "state": {
            "_view_name": "StyleView",
            "_model_name": "DescriptionStyleModel",
            "description_width": "",
            "_view_module": "@jupyter-widgets/base",
            "_model_module_version": "1.5.0",
            "_view_count": null,
            "_view_module_version": "1.2.0",
            "_model_module": "@jupyter-widgets/controls"
          }
        },
        "6f1d25305ec4419d8755f3daedbdbd47": {
          "model_module": "@jupyter-widgets/base",
          "model_name": "LayoutModel",
          "state": {
            "_view_name": "LayoutView",
            "grid_template_rows": null,
            "right": null,
            "justify_content": null,
            "_view_module": "@jupyter-widgets/base",
            "overflow": null,
            "_model_module_version": "1.2.0",
            "_view_count": null,
            "flex_flow": null,
            "width": null,
            "min_width": null,
            "border": null,
            "align_items": null,
            "bottom": null,
            "_model_module": "@jupyter-widgets/base",
            "top": null,
            "grid_column": null,
            "overflow_y": null,
            "overflow_x": null,
            "grid_auto_flow": null,
            "grid_area": null,
            "grid_template_columns": null,
            "flex": null,
            "_model_name": "LayoutModel",
            "justify_items": null,
            "grid_row": null,
            "max_height": null,
            "align_content": null,
            "visibility": null,
            "align_self": null,
            "height": null,
            "min_height": null,
            "padding": null,
            "grid_auto_rows": null,
            "grid_gap": null,
            "max_width": null,
            "order": null,
            "_view_module_version": "1.2.0",
            "grid_template_areas": null,
            "object_position": null,
            "object_fit": null,
            "grid_auto_columns": null,
            "margin": null,
            "display": null,
            "left": null
          }
        }
      }
    }
  },
  "cells": [
    {
      "cell_type": "code",
      "metadata": {
        "id": "AN3MEH40LuMb",
        "colab_type": "code",
        "colab": {
          "base_uri": "https://localhost:8080/",
          "height": 238
        },
        "outputId": "b2deec87-2693-4bbd-faa4-74acd0a088e5"
      },
      "source": [
        "!pip install git+https://github.com/deepmind/dm-haiku"
      ],
      "execution_count": 1,
      "outputs": [
        {
          "output_type": "stream",
          "text": [
            "Collecting git+https://github.com/deepmind/dm-haiku\n",
            "  Cloning https://github.com/deepmind/dm-haiku to /tmp/pip-req-build-4iew_c3g\n",
            "  Running command git clone -q https://github.com/deepmind/dm-haiku /tmp/pip-req-build-4iew_c3g\n",
            "Requirement already satisfied: absl-py>=0.7.1 in /usr/local/lib/python3.6/dist-packages (from dm-haiku==0.0.2) (0.9.0)\n",
            "Requirement already satisfied: numpy>=1.18.0 in /usr/local/lib/python3.6/dist-packages (from dm-haiku==0.0.2) (1.18.5)\n",
            "Requirement already satisfied: six in /usr/local/lib/python3.6/dist-packages (from absl-py>=0.7.1->dm-haiku==0.0.2) (1.15.0)\n",
            "Building wheels for collected packages: dm-haiku\n",
            "  Building wheel for dm-haiku (setup.py) ... \u001b[?25l\u001b[?25hdone\n",
            "  Created wheel for dm-haiku: filename=dm_haiku-0.0.2-cp36-none-any.whl size=289551 sha256=bdaaca0232060c6903025795c49eddd0c70d0bfb7b2d61c7f32649b0aa5edeff\n",
            "  Stored in directory: /tmp/pip-ephem-wheel-cache-2diuz5o2/wheels/97/0f/e9/17f34e377f8d4060fa88a7e82bee5d8afbf7972384768a5499\n",
            "Successfully built dm-haiku\n",
            "Installing collected packages: dm-haiku\n",
            "Successfully installed dm-haiku-0.0.2\n"
          ],
          "name": "stdout"
        }
      ]
    },
    {
      "cell_type": "code",
      "metadata": {
        "id": "w4FW5ZW8MJ03",
        "colab_type": "code",
        "colab": {
          "base_uri": "https://localhost:8080/",
          "height": 51
        },
        "outputId": "ac40a4c3-53dd-47c2-a5b7-e0cc2bcc9de7"
      },
      "source": [
        "import functools\n",
        "from typing import Any, NamedTuple\n",
        "\n",
        "import haiku as hk\n",
        "import jax\n",
        "from jax.experimental import optix\n",
        "import jax.numpy as jnp\n",
        "import matplotlib.pyplot as plt\n",
        "import numpy as np\n",
        "import seaborn as sns\n",
        "import tensorflow as tf\n",
        "import tensorflow_datasets as tfds"
      ],
      "execution_count": 2,
      "outputs": [
        {
          "output_type": "stream",
          "text": [
            "/usr/local/lib/python3.6/dist-packages/statsmodels/tools/_testing.py:19: FutureWarning: pandas.util.testing is deprecated. Use the functions in the public API at pandas.testing instead.\n",
            "  import pandas.util.testing as tm\n"
          ],
          "name": "stderr"
        }
      ]
    },
    {
      "cell_type": "markdown",
      "metadata": {
        "id": "YWZ6AkaBuj1F",
        "colab_type": "text"
      },
      "source": [
        "# Model"
      ]
    },
    {
      "cell_type": "markdown",
      "metadata": {
        "id": "XfiymVevvXjo",
        "colab_type": "text"
      },
      "source": [
        "## Utils"
      ]
    },
    {
      "cell_type": "code",
      "metadata": {
        "id": "zMLPTVbMMSrj",
        "colab_type": "code",
        "colab": {}
      },
      "source": [
        "def tree_shape(xs):\n",
        "  return jax.tree_map(lambda x: x.shape, xs)\n",
        "\n",
        "\n",
        "def sparse_softmax_cross_entropy(logits, labels):\n",
        "  one_hot_labels = jax.nn.one_hot(labels, logits.shape[-1])\n",
        "  return -jnp.sum(one_hot_labels * jax.nn.log_softmax(logits), axis=-1)"
      ],
      "execution_count": 4,
      "outputs": []
    },
    {
      "cell_type": "markdown",
      "metadata": {
        "id": "-6rWgziMvZZ7",
        "colab_type": "text"
      },
      "source": [
        "## Generator and Discriminator"
      ]
    },
    {
      "cell_type": "code",
      "metadata": {
        "id": "Cmm2Lz3AMXdG",
        "colab_type": "code",
        "colab": {}
      },
      "source": [
        "class Generator(hk.Module):\n",
        "  \"\"\"Generator network.\"\"\"\n",
        "  \n",
        "  def __init__(self, output_channels=(32, 1), name=None):\n",
        "    super().__init__(name=name)\n",
        "    self.output_channels = output_channels\n",
        "\n",
        "  def __call__(self, x):\n",
        "    \"\"\"Maps noise latents to images.\"\"\"\n",
        "    x = hk.Linear(7 * 7 * 64)(x)\n",
        "    x = jnp.reshape(x, x.shape[:1] + (7, 7, 64)) \n",
        "    for output_channels in self.output_channels:\n",
        "      x = jax.nn.relu(x)\n",
        "      x = hk.Conv2DTranspose(output_channels=output_channels,\n",
        "                             kernel_shape=[5, 5],\n",
        "                             stride=2,\n",
        "                             padding=\"SAME\")(x)\n",
        "    # We use a tanh to ensure that the generated samples are in the same\n",
        "    # range as the data.\n",
        "    return jnp.tanh(x)"
      ],
      "execution_count": 5,
      "outputs": []
    },
    {
      "cell_type": "code",
      "metadata": {
        "id": "7ETmO_6iNR8M",
        "colab_type": "code",
        "colab": {}
      },
      "source": [
        "class Discriminator(hk.Module):\n",
        "  \"\"\"Discriminator network.\"\"\"\n",
        "\n",
        "  def __init__(self,\n",
        "               output_channels=(8, 16, 32, 64, 128),\n",
        "               strides=(2, 1, 2, 1, 2),\n",
        "               name=None):   \n",
        "    super().__init__(name=name)\n",
        "    self.output_channels = output_channels\n",
        "    self.strides = strides\n",
        "\n",
        "  def __call__(self, x):\n",
        "    \"\"\"Classifies images as real or fake.\"\"\"\n",
        "    for output_channels, stride in zip(self.output_channels, self.strides):\n",
        "      x = hk.Conv2D(output_channels=output_channels,\n",
        "                    kernel_shape=[5, 5],\n",
        "                    stride=stride,\n",
        "                    padding=\"SAME\")(x)\n",
        "      x = jax.nn.leaky_relu(x, negative_slope=0.2)\n",
        "    x = hk.Flatten()(x)    \n",
        "    # We have two classes: 0 = input is fake, 1 = input is real.\n",
        "    logits = hk.Linear(2)(x)\n",
        "    return logits"
      ],
      "execution_count": 6,
      "outputs": []
    },
    {
      "cell_type": "markdown",
      "metadata": {
        "id": "r7Sf_acfvSql",
        "colab_type": "text"
      },
      "source": [
        "## The GAN"
      ]
    },
    {
      "cell_type": "code",
      "metadata": {
        "id": "0oJH1DniRNSZ",
        "colab_type": "code",
        "colab": {}
      },
      "source": [
        "class GANTuple(NamedTuple):\n",
        "  gen: Any\n",
        "  disc: Any\n",
        "\n",
        "\n",
        "class GANState(NamedTuple):\n",
        "  params: GANTuple\n",
        "  opt_state: GANTuple\n",
        "\n",
        "\n",
        "class GAN:\n",
        "  \"\"\"A basic GAN.\"\"\"\n",
        "\n",
        "  def __init__(self, num_latents):\n",
        "    self.num_latents = num_latents\n",
        "  \n",
        "    # Define the Haiku network transforms.\n",
        "    # We don't use BatchNorm so we don't use `with_state`.\n",
        "    #without_apply_rng removes the rng argument from the apply function.\n",
        "    self.gen_transform = hk.without_apply_rng(\n",
        "        hk.transform(lambda *args: Generator()(*args))) #lambda creates object and applies it\n",
        "    self.disc_transform = hk.without_apply_rng(\n",
        "        hk.transform(lambda *args: Discriminator()(*args))) #lambda creates object and applies it\n",
        "    \n",
        "    # Build the optimizers.\n",
        "    self.optimizers = GANTuple(gen=optix.adam(1e-4, b1=0.5, b2=0.9),\n",
        "                               disc=optix.adam(1e-4, b1=0.5, b2=0.9))\n",
        "\n",
        "  @functools.partial(jax.jit, static_argnums=0)\n",
        "  def initial_state(self, rng, batch):\n",
        "    \"\"\"Returns the initial parameters and optimize states.\"\"\"\n",
        "    # Generate dummy latents for the generator.\n",
        "    dummy_latents = jnp.zeros((batch.shape[0], self.num_latents))\n",
        "\n",
        "    # Get initial network parameters.\n",
        "    rng_gen, rng_disc = jax.random.split(rng)\n",
        "    params = GANTuple(gen=self.gen_transform.init(rng_gen, dummy_latents),\n",
        "                      disc=self.disc_transform.init(rng_disc, batch))\n",
        "    print(\"Generator: \\n\\n{}\\n\".format(tree_shape(params.gen)))\n",
        "    print(\"Discriminator: \\n\\n{}\\n\".format(tree_shape(params.disc)))\n",
        "    \n",
        "    # Initialize the optimizers.\n",
        "    opt_state = GANTuple(gen=self.optimizers.gen.init(params.gen),\n",
        "                         disc=self.optimizers.disc.init(params.disc))\n",
        "    \n",
        "    return GANState(params=params, opt_state=opt_state)\n",
        "\n",
        "  def sample(self, rng, gen_params, num_samples):\n",
        "    \"\"\"Generates images from noise latents.\"\"\"\n",
        "    latents = jax.random.normal(rng, shape=(num_samples, self.num_latents))\n",
        "    return self.gen_transform.apply(gen_params, latents)\n",
        "\n",
        "  def gen_loss(self, gen_params, rng, disc_params, batch):\n",
        "    \"\"\"Generator loss.\"\"\"\n",
        "    # Sample from the generator.\n",
        "    fake_batch = self.sample(rng, gen_params, num_samples=batch.shape[0])\n",
        "\n",
        "    # Evaluate using the discriminator. Recall class 1 is real.\n",
        "    fake_logits = self.disc_transform.apply(disc_params, fake_batch)\n",
        "    fake_probs = jax.nn.softmax(fake_logits)[:, 1]\n",
        "    loss = -jnp.log(fake_probs)\n",
        "    \n",
        "    return jnp.mean(loss)\n",
        "\n",
        "  def disc_loss(self, disc_params, rng, gen_params, batch):\n",
        "    \"\"\"Discriminator loss.\"\"\"\n",
        "    # Sample from the generator.\n",
        "    fake_batch = self.sample(rng, gen_params, num_samples=batch.shape[0])\n",
        "\n",
        "    # For efficiency we process both the real and fake data in one pass.\n",
        "    real_and_fake_batch = jnp.concatenate([batch, fake_batch], axis=0)\n",
        "    real_and_fake_logits = self.disc_transform.apply(disc_params, \n",
        "                                                     real_and_fake_batch)\n",
        "    real_logits, fake_logits = jnp.split(real_and_fake_logits, 2, axis=0)\n",
        "\n",
        "    # Class 1 is real.\n",
        "    real_labels = jnp.ones((batch.shape[0],), dtype=jnp.int32)\n",
        "    real_loss = sparse_softmax_cross_entropy(real_logits, real_labels)\n",
        "\n",
        "    # Class 0 is fake.\n",
        "    fake_labels = jnp.zeros((batch.shape[0],), dtype=jnp.int32)\n",
        "    fake_loss = sparse_softmax_cross_entropy(fake_logits, fake_labels)\n",
        "\n",
        "    return jnp.mean(real_loss + fake_loss)\n",
        "\n",
        "  @functools.partial(jax.jit, static_argnums=0)\n",
        "  def update(self, rng, gan_state, batch):\n",
        "    \"\"\"Performs a parameter update.\"\"\"\n",
        "    rng, rng_gen, rng_disc = jax.random.split(rng, 3)\n",
        "    \n",
        "    # Update the discriminator.\n",
        "    disc_loss, disc_grads = jax.value_and_grad(self.disc_loss)(\n",
        "        gan_state.params.disc,\n",
        "        rng_disc, \n",
        "        gan_state.params.gen,\n",
        "        batch)\n",
        "    disc_update, disc_opt_state = self.optimizers.disc.update(\n",
        "        disc_grads, gan_state.opt_state.disc)\n",
        "    disc_params = optix.apply_updates(gan_state.params.disc, disc_update)\n",
        "\n",
        "    # Update the generator.\n",
        "    gen_loss, gen_grads = jax.value_and_grad(self.gen_loss)(\n",
        "        gan_state.params.gen,\n",
        "        rng_gen, \n",
        "        gan_state.params.disc,\n",
        "        batch)\n",
        "    gen_update, gen_opt_state = self.optimizers.gen.update(\n",
        "        gen_grads, gan_state.opt_state.gen)\n",
        "    gen_params = optix.apply_updates(gan_state.params.gen, gen_update)\n",
        "    \n",
        "    params = GANTuple(gen=gen_params, disc=disc_params)\n",
        "    opt_state = GANTuple(gen=gen_opt_state, disc=disc_opt_state)\n",
        "    gan_state = GANState(params=params, opt_state=opt_state)\n",
        "    log = {\n",
        "        \"gen_loss\": gen_loss,\n",
        "        \"disc_loss\": disc_loss,\n",
        "    }\n",
        "\n",
        "    return rng, gan_state, log"
      ],
      "execution_count": 7,
      "outputs": []
    },
    {
      "cell_type": "markdown",
      "metadata": {
        "id": "J8jSygwBvPX6",
        "colab_type": "text"
      },
      "source": [
        "# Dataset"
      ]
    },
    {
      "cell_type": "code",
      "metadata": {
        "id": "MCO4qPj8UYBU",
        "colab_type": "code",
        "colab": {
          "base_uri": "https://localhost:8080/",
          "height": 202,
          "referenced_widgets": [
            "3d819f04210249af824718c3729d4bb4",
            "8b2c562bc0794ecf942e6fb7ea10d5d0",
            "c78c9fc873ed48cebe466ac507a0779b",
            "8e1f3a50c9474da8940e821cdd78cbce",
            "a34f07370bd14256958fc9fc5c167b1f",
            "1374458011d946bab62046ffb95d450a",
            "1888c000bffc41ea819bac891d07d38e",
            "6f1d25305ec4419d8755f3daedbdbd47"
          ]
        },
        "outputId": "857dfb29-5911-482c-bb62-28eb17fb4bd6"
      },
      "source": [
        "mnist = tfds.load(\"mnist\")\n",
        "def make_dataset(batch_size, seed=1):\n",
        "  def _preprocess(sample):\n",
        "    image = tf.image.convert_image_dtype(sample[\"image\"], tf.float32)\n",
        "    return 2.0 * image - 1.0\n",
        "\n",
        "  ds = mnist[\"train\"]\n",
        "  ds = ds.map(map_func=_preprocess, \n",
        "              num_parallel_calls=tf.data.experimental.AUTOTUNE)\n",
        "  ds = ds.cache()\n",
        "  ds = ds.shuffle(10 * batch_size, seed=seed).repeat().batch(batch_size)\n",
        "  return tfds.as_numpy(ds)"
      ],
      "execution_count": 8,
      "outputs": [
        {
          "output_type": "stream",
          "text": [
            "WARNING:absl:Dataset mnist is hosted on GCS. It will automatically be downloaded to your\n",
            "local data directory. If you'd instead prefer to read directly from our public\n",
            "GCS bucket (recommended if you're running on GCP), you can instead set\n",
            "data_dir=gs://tfds-data/datasets.\n",
            "\n"
          ],
          "name": "stderr"
        },
        {
          "output_type": "stream",
          "text": [
            "\u001b[1mDownloading and preparing dataset mnist/3.0.0 (download: 11.06 MiB, generated: Unknown size, total: 11.06 MiB) to /root/tensorflow_datasets/mnist/3.0.0...\u001b[0m\n"
          ],
          "name": "stdout"
        },
        {
          "output_type": "display_data",
          "data": {
            "application/vnd.jupyter.widget-view+json": {
              "model_id": "3d819f04210249af824718c3729d4bb4",
              "version_minor": 0,
              "version_major": 2
            },
            "text/plain": [
              "HBox(children=(FloatProgress(value=0.0, description='Dl Completed...', max=4.0, style=ProgressStyle(descriptio…"
            ]
          },
          "metadata": {
            "tags": []
          }
        },
        {
          "output_type": "stream",
          "text": [
            "\n",
            "\n",
            "\u001b[1mDataset mnist downloaded and prepared to /root/tensorflow_datasets/mnist/3.0.0. Subsequent calls will reuse this data.\u001b[0m\n"
          ],
          "name": "stdout"
        }
      ]
    },
    {
      "cell_type": "code",
      "metadata": {
        "id": "CXad8F0YVMBr",
        "colab_type": "code",
        "colab": {
          "base_uri": "https://localhost:8080/",
          "height": 1000
        },
        "outputId": "68d405cf-353a-4608-c25e-387dc8e556da"
      },
      "source": [
        "@title {vertical-output: true}\n",
        "\n",
        "num_steps = 20001\n",
        "log_every = num_steps // 100\n",
        "\n",
        "# Let's see what hardware we're working with. The training takes a few\n",
        "# minutes on a GPU, a bit longer on CPU.\n",
        "print(f\"Number of devices: {jax.device_count()}\")\n",
        "print(\"Device:\", jax.devices()[0].device_kind)\n",
        "print(\"\")\n",
        "\n",
        "# Make the dataset.\n",
        "dataset = make_dataset(batch_size=64)\n",
        "\n",
        "# The model.\n",
        "gan = GAN(num_latents=20)\n",
        "\n",
        "# Top-level RNG.\n",
        "rng = jax.random.PRNGKey(1729)\n",
        "\n",
        "# Initialize the network and optimizer.\n",
        "rng, rng1 = jax.random.split(rng)\n",
        "gan_state = gan.initial_state(rng1, next(dataset))\n",
        "\n",
        "steps = []\n",
        "gen_losses = []\n",
        "disc_losses = []\n",
        "\n",
        "for step in range(num_steps):\n",
        "  rng, gan_state, log = gan.update(rng, gan_state, next(dataset))\n",
        "\n",
        "  # Log the losses.\n",
        "  if step % log_every == 0:   \n",
        "    # It's important to call `device_get` here so we don't take up device\n",
        "    # memory by saving the losses.\n",
        "    log = jax.device_get(log)\n",
        "    gen_loss = log[\"gen_loss\"]\n",
        "    disc_loss = log[\"disc_loss\"]\n",
        "    print(f\"Step {step}: \"\n",
        "          f\"gen_loss = {gen_loss:.3f}, disc_loss = {disc_loss:.3f}\")\n",
        "    steps.append(step)\n",
        "    gen_losses.append(gen_loss)\n",
        "    disc_losses.append(disc_loss)"
      ],
      "execution_count": 9,
      "outputs": [
        {
          "output_type": "stream",
          "text": [
            "Number of devices: 1\n",
            "Device: Tesla T4\n",
            "\n",
            "Generator: \n",
            "\n",
            "frozendict({\n",
            "  'generator/conv2_d_transpose': frozendict({'b': (32,), 'w': (5, 5, 32, 64)}),\n",
            "  'generator/conv2_d_transpose_1': frozendict({'b': (1,), 'w': (5, 5, 1, 32)}),\n",
            "  'generator/linear': frozendict({'b': (3136,), 'w': (20, 3136)}),\n",
            "})\n",
            "\n",
            "Discriminator: \n",
            "\n",
            "frozendict({\n",
            "  'discriminator/conv2_d': frozendict({'b': (8,), 'w': (5, 5, 1, 8)}),\n",
            "  'discriminator/conv2_d_1': frozendict({'b': (16,), 'w': (5, 5, 8, 16)}),\n",
            "  'discriminator/conv2_d_2': frozendict({'b': (32,), 'w': (5, 5, 16, 32)}),\n",
            "  'discriminator/conv2_d_3': frozendict({'b': (64,), 'w': (5, 5, 32, 64)}),\n",
            "  'discriminator/conv2_d_4': frozendict({'b': (128,), 'w': (5, 5, 64, 128)}),\n",
            "  'discriminator/linear': frozendict({'b': (2,), 'w': (2048, 2)}),\n",
            "})\n",
            "\n",
            "Step 0: gen_loss = 0.696, disc_loss = 1.421\n",
            "Step 200: gen_loss = 3.642, disc_loss = 0.048\n",
            "Step 400: gen_loss = 4.194, disc_loss = 0.061\n",
            "Step 600: gen_loss = 4.832, disc_loss = 0.058\n",
            "Step 800: gen_loss = 4.633, disc_loss = 0.391\n",
            "Step 1000: gen_loss = 5.248, disc_loss = 0.447\n",
            "Step 1200: gen_loss = 6.039, disc_loss = 0.018\n",
            "Step 1400: gen_loss = 4.750, disc_loss = 0.108\n",
            "Step 1600: gen_loss = 5.783, disc_loss = 0.028\n",
            "Step 1800: gen_loss = 4.480, disc_loss = 0.452\n",
            "Step 2000: gen_loss = 3.677, disc_loss = 0.139\n",
            "Step 2200: gen_loss = 8.561, disc_loss = 1.146\n",
            "Step 2400: gen_loss = 2.870, disc_loss = 0.226\n",
            "Step 2600: gen_loss = 2.820, disc_loss = 0.808\n",
            "Step 2800: gen_loss = 2.747, disc_loss = 0.437\n",
            "Step 3000: gen_loss = 3.654, disc_loss = 0.190\n",
            "Step 3200: gen_loss = 3.252, disc_loss = 0.428\n",
            "Step 3400: gen_loss = 3.730, disc_loss = 0.454\n",
            "Step 3600: gen_loss = 3.160, disc_loss = 0.432\n",
            "Step 3800: gen_loss = 2.875, disc_loss = 0.378\n",
            "Step 4000: gen_loss = 2.637, disc_loss = 0.546\n",
            "Step 4200: gen_loss = 2.110, disc_loss = 0.392\n",
            "Step 4400: gen_loss = 1.775, disc_loss = 0.531\n",
            "Step 4600: gen_loss = 1.532, disc_loss = 0.630\n",
            "Step 4800: gen_loss = 2.901, disc_loss = 0.471\n",
            "Step 5000: gen_loss = 3.189, disc_loss = 0.528\n",
            "Step 5200: gen_loss = 2.268, disc_loss = 0.409\n",
            "Step 5400: gen_loss = 2.145, disc_loss = 0.554\n",
            "Step 5600: gen_loss = 3.301, disc_loss = 0.694\n",
            "Step 5800: gen_loss = 1.644, disc_loss = 0.456\n",
            "Step 6000: gen_loss = 2.550, disc_loss = 0.405\n",
            "Step 6200: gen_loss = 1.958, disc_loss = 0.423\n",
            "Step 6400: gen_loss = 1.881, disc_loss = 0.507\n",
            "Step 6600: gen_loss = 2.932, disc_loss = 0.562\n",
            "Step 6800: gen_loss = 2.844, disc_loss = 0.853\n",
            "Step 7000: gen_loss = 1.739, disc_loss = 0.437\n",
            "Step 7200: gen_loss = 2.725, disc_loss = 0.483\n",
            "Step 7400: gen_loss = 1.960, disc_loss = 0.595\n",
            "Step 7600: gen_loss = 2.349, disc_loss = 0.602\n",
            "Step 7800: gen_loss = 1.797, disc_loss = 0.463\n",
            "Step 8000: gen_loss = 3.086, disc_loss = 0.553\n",
            "Step 8200: gen_loss = 2.780, disc_loss = 0.625\n",
            "Step 8400: gen_loss = 1.909, disc_loss = 0.576\n",
            "Step 8600: gen_loss = 2.277, disc_loss = 0.576\n",
            "Step 8800: gen_loss = 1.869, disc_loss = 0.544\n",
            "Step 9000: gen_loss = 2.007, disc_loss = 0.511\n",
            "Step 9200: gen_loss = 3.011, disc_loss = 0.644\n",
            "Step 9400: gen_loss = 1.843, disc_loss = 0.488\n",
            "Step 9600: gen_loss = 2.735, disc_loss = 0.525\n",
            "Step 9800: gen_loss = 1.517, disc_loss = 0.554\n",
            "Step 10000: gen_loss = 1.680, disc_loss = 0.540\n",
            "Step 10200: gen_loss = 1.973, disc_loss = 0.361\n",
            "Step 10400: gen_loss = 2.769, disc_loss = 0.549\n",
            "Step 10600: gen_loss = 1.650, disc_loss = 0.610\n",
            "Step 10800: gen_loss = 2.119, disc_loss = 0.501\n",
            "Step 11000: gen_loss = 2.592, disc_loss = 0.530\n",
            "Step 11200: gen_loss = 2.437, disc_loss = 0.464\n",
            "Step 11400: gen_loss = 2.130, disc_loss = 0.391\n",
            "Step 11600: gen_loss = 2.177, disc_loss = 0.412\n",
            "Step 11800: gen_loss = 2.673, disc_loss = 0.588\n",
            "Step 12000: gen_loss = 2.628, disc_loss = 0.543\n",
            "Step 12200: gen_loss = 3.209, disc_loss = 0.646\n",
            "Step 12400: gen_loss = 2.323, disc_loss = 0.600\n",
            "Step 12600: gen_loss = 2.431, disc_loss = 0.523\n",
            "Step 12800: gen_loss = 1.435, disc_loss = 0.580\n",
            "Step 13000: gen_loss = 2.407, disc_loss = 0.486\n",
            "Step 13200: gen_loss = 1.475, disc_loss = 0.633\n",
            "Step 13400: gen_loss = 2.167, disc_loss = 0.647\n",
            "Step 13600: gen_loss = 2.041, disc_loss = 0.634\n",
            "Step 13800: gen_loss = 2.159, disc_loss = 0.577\n",
            "Step 14000: gen_loss = 1.493, disc_loss = 0.841\n",
            "Step 14200: gen_loss = 1.779, disc_loss = 0.632\n",
            "Step 14400: gen_loss = 2.301, disc_loss = 0.476\n",
            "Step 14600: gen_loss = 1.980, disc_loss = 0.469\n",
            "Step 14800: gen_loss = 3.488, disc_loss = 0.909\n",
            "Step 15000: gen_loss = 1.915, disc_loss = 0.631\n",
            "Step 15200: gen_loss = 1.940, disc_loss = 0.593\n",
            "Step 15400: gen_loss = 3.401, disc_loss = 0.549\n",
            "Step 15600: gen_loss = 1.856, disc_loss = 0.572\n",
            "Step 15800: gen_loss = 2.529, disc_loss = 0.413\n",
            "Step 16000: gen_loss = 2.003, disc_loss = 0.570\n",
            "Step 16200: gen_loss = 1.871, disc_loss = 0.548\n",
            "Step 16400: gen_loss = 1.966, disc_loss = 0.528\n",
            "Step 16600: gen_loss = 1.454, disc_loss = 0.583\n",
            "Step 16800: gen_loss = 2.650, disc_loss = 0.655\n",
            "Step 17000: gen_loss = 2.395, disc_loss = 0.581\n",
            "Step 17200: gen_loss = 2.734, disc_loss = 0.456\n",
            "Step 17400: gen_loss = 2.180, disc_loss = 0.530\n",
            "Step 17600: gen_loss = 2.749, disc_loss = 0.602\n",
            "Step 17800: gen_loss = 2.688, disc_loss = 0.489\n",
            "Step 18000: gen_loss = 2.637, disc_loss = 0.491\n",
            "Step 18200: gen_loss = 3.149, disc_loss = 0.726\n",
            "Step 18400: gen_loss = 2.317, disc_loss = 0.675\n",
            "Step 18600: gen_loss = 3.236, disc_loss = 0.732\n",
            "Step 18800: gen_loss = 2.021, disc_loss = 0.538\n",
            "Step 19000: gen_loss = 2.181, disc_loss = 0.633\n",
            "Step 19200: gen_loss = 2.191, disc_loss = 0.612\n",
            "Step 19400: gen_loss = 2.217, disc_loss = 0.362\n",
            "Step 19600: gen_loss = 2.172, disc_loss = 0.677\n",
            "Step 19800: gen_loss = 2.052, disc_loss = 0.721\n",
            "Step 20000: gen_loss = 1.793, disc_loss = 0.558\n"
          ],
          "name": "stdout"
        }
      ]
    },
    {
      "cell_type": "markdown",
      "metadata": {
        "id": "EODCc_tzw1ZF",
        "colab_type": "text"
      },
      "source": [
        "# Visualizations"
      ]
    },
    {
      "cell_type": "markdown",
      "metadata": {
        "id": "vbcz9otrwtd1",
        "colab_type": "text"
      },
      "source": [
        "## Visualize the losses"
      ]
    },
    {
      "cell_type": "code",
      "metadata": {
        "id": "S1OZHkplbiIV",
        "colab_type": "code",
        "colab": {
          "base_uri": "https://localhost:8080/",
          "height": 395
        },
        "outputId": "e68cc711-d3f1-44fb-82e5-e481b74511af"
      },
      "source": [
        "sns.set_style(\"whitegrid\")\n",
        "\n",
        "fig, axes = plt.subplots(1, 2, figsize=(20, 6))\n",
        "\n",
        "# Plot the discriminator loss.\n",
        "axes[0].plot(steps, disc_losses, \"-\")\n",
        "axes[0].plot(steps, np.log(2) * np.ones_like(steps), \"r--\", \n",
        "             label=\"Discriminator is being fooled\")\n",
        "axes[0].legend(fontsize=20)\n",
        "axes[0].set_title(\"Discriminator loss\", fontsize=20)\n",
        "\n",
        "# Plot the generator loss.\n",
        "axes[1].plot(steps, gen_losses, '-')\n",
        "axes[1].set_title(\"Generator loss\", fontsize=20);"
      ],
      "execution_count": 10,
      "outputs": [
        {
          "output_type": "display_data",
          "data": {
            "image/png": "[encoded data removed]",
            "text/plain": [
              "<Figure size 1440x432 with 2 Axes>"
            ]
          },
          "metadata": {
            "tags": []
          }
        }
      ]
    },
    {
      "cell_type": "markdown",
      "metadata": {
        "id": "71xd_46Sw6LF",
        "colab_type": "text"
      },
      "source": [
        "## VIsualize the samples"
      ]
    },
    {
      "cell_type": "code",
      "metadata": {
        "id": "jw59OpZEgdAB",
        "colab_type": "code",
        "colab": {
          "base_uri": "https://localhost:8080/",
          "height": 248
        },
        "outputId": "6dc2f1af-217d-4e7b-ec97-edad2636b7fc"
      },
      "source": [
        "\n",
        "def make_grid(samples, num_cols=8, rescale=True): \n",
        "  batch_size, height, width = samples.shape\n",
        "  assert batch_size % num_cols == 0\n",
        "  num_rows = batch_size // num_cols\n",
        "  # We want samples.shape == (height * num_rows, width * num_cols).\n",
        "  samples = samples.reshape(num_rows, num_cols, height, width)\n",
        "  samples = samples.swapaxes(1, 2)\n",
        "  samples = samples.reshape(height * num_rows, width * num_cols)\n",
        "  return samples\n",
        "\n",
        "\n",
        "# Generate samples from the trained generator.\n",
        "rng = jax.random.PRNGKey(12)\n",
        "samples = gan.sample(rng, gan_state.params.gen, num_samples=64)\n",
        "samples = jax.device_get(samples)\n",
        "samples = samples.squeeze(axis=-1)\n",
        "# Our model outputs values in [-1, 1] so scale it back to [0, 1].\n",
        "samples = (samples + 1.0) / 2.0\n",
        "\n",
        "plt.gray()\n",
        "plt.axis(\"off\")\n",
        "samples_grid = make_grid(samples)\n",
        "plt.imshow(samples_grid);"
      ],
      "execution_count": 11,
      "outputs": [
        {
          "output_type": "display_data",
          "data": {
            "image/png": "[encoded data removed]",
            "text/plain": [
              "<Figure size 432x288 with 1 Axes>"
            ]
          },
          "metadata": {
            "tags": []
          }
        }
      ]
    }
  ]
}