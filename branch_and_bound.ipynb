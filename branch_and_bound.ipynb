{
 "cells": [
  {
   "cell_type": "code",
   "execution_count": 13,
   "metadata": {},
   "outputs": [],
   "source": [
    "from ortools.linear_solver import pywraplp\n",
    "from math import ceil\n",
    "from graphviz import Digraph"
   ]
  },
  {
   "cell_type": "code",
   "execution_count": 14,
   "metadata": {},
   "outputs": [],
   "source": [
    "dot = Digraph(comment='Mochila Mochila, yay!', format='png')"
   ]
  },
  {
   "cell_type": "code",
   "execution_count": 15,
   "metadata": {},
   "outputs": [],
   "source": [
    "solver = pywraplp.Solver.CreateSolver('GLOP')"
   ]
  },
  {
   "cell_type": "code",
   "execution_count": 16,
   "metadata": {},
   "outputs": [],
   "source": [
    "def f(a1, a2, a3, a4):\n",
    "    return 10*a1 + 12*a2 + 7*a3 + 3/2*a4"
   ]
  },
  {
   "cell_type": "code",
   "execution_count": 17,
   "metadata": {},
   "outputs": [],
   "source": [
    "def get_diff(l1, l2):\n",
    "    for idx, (v1, v2)  in enumerate(zip(l1, l2)):\n",
    "        if v1 != v2:\n",
    "            return idx\n",
    "    return -1"
   ]
  },
  {
   "cell_type": "code",
   "execution_count": 18,
   "metadata": {},
   "outputs": [],
   "source": [
    "x1 = solver.NumVar(0, 1e6, 'x1')\n",
    "x2 = solver.NumVar(0, 1e6, 'x2')\n",
    "x3 = solver.NumVar(0, 1, 'x3')\n",
    "x4 = solver.NumVar(0, 1, 'x4')\n",
    "x = [x1, x2, x3, x4]"
   ]
  },
  {
   "cell_type": "code",
   "execution_count": 19,
   "metadata": {},
   "outputs": [],
   "source": [
    "solver.Add(4*x1 + 5*x2 + 3*x3 + x4 <= 10)\n",
    "solver.Maximize(10*x1 + 12*x2 + 7*x3 + 3/2*x4)"
   ]
  },
  {
   "cell_type": "code",
   "execution_count": 20,
   "metadata": {},
   "outputs": [],
   "source": [
    "count = 0\n",
    "best = -1"
   ]
  },
  {
   "cell_type": "code",
   "execution_count": 21,
   "metadata": {},
   "outputs": [],
   "source": [
    "def bnb(solver):\n",
    "    global count\n",
    "    global best\n",
    "    status = solver.Solve()\n",
    "    my_id = count\n",
    "    count += 1\n",
    "    if status == pywraplp.Solver.OPTIMAL:\n",
    "        dual = solver.Objective().Value()\n",
    "        if dual < best:\n",
    "            dot.node(f\"{my_id}\", f\"Poda por qualidade\", color=\"blue\")\n",
    "            print(dual)\n",
    "            count += 1\n",
    "            return my_id\n",
    "\n",
    "        print(\"Dual: \", dual)\n",
    "        \n",
    "        x_lower = [int(xi.solution_value()) for xi in x]\n",
    "        x_upper = [ceil(xi.solution_value()) for xi in x]\n",
    "        \n",
    "        primal = f(*x_lower)\n",
    "        \n",
    "        \n",
    "        non_int = get_diff(x_lower, x_upper)\n",
    "        if non_int == -1:\n",
    "            dot.node(f\"{my_id}\", f\"{primal}, {dual:.2f}\", color=\"green\")\n",
    "            best = max(best, primal)\n",
    "            return my_id\n",
    "        else:\n",
    "            dot.node(f\"{my_id}\", f\"{primal}, {dual:.2f}\")\n",
    "            lower = x_lower[non_int]\n",
    "            upper = x_upper[non_int]\n",
    "            x_branch = solver.variables()[non_int]\n",
    "            lb, ub = x_branch.lb(), x_branch.ub()\n",
    "            x_branch.SetUb(lower)\n",
    "            child_id = bnb(solver)\n",
    "            x_branch.SetUb(ub)\n",
    "            dot.edge(f\"{my_id}\", f\"{child_id}\", label=f\"x{non_int+1} <= {lower}\")\n",
    "            \n",
    "            x_branch.SetLb(upper)\n",
    "            child_id = bnb(solver)\n",
    "            x_branch.SetLb(lb)\n",
    "            dot.edge(f\"{my_id}\", f\"{child_id}\", label=f\"x{non_int+1} >= {upper}\")\n",
    "        return my_id\n",
    "    else:\n",
    "        dot.node(f\"{my_id}\", f\"Poda por infactibilidade\", color=\"red\")\n",
    "        count += 1\n",
    "        return my_id"
   ]
  },
  {
   "cell_type": "code",
   "execution_count": 22,
   "metadata": {},
   "outputs": [
    {
     "name": "stdout",
     "output_type": "stream",
     "text": [
      "Dual:  25.0\n",
      "Dual:  24.8\n",
      "Dual:  24.666666666666664\n",
      "Dual:  21.5\n",
      "Dual:  24.5\n",
      "18.5\n",
      "Dual:  24.5\n",
      "Dual:  24.4\n",
      "Dual:  24.333333333333332\n",
      "Dual:  23.5\n",
      "Dual:  24.0\n",
      "20.5\n",
      "Dual:  24.0\n"
     ]
    },
    {
     "data": {
      "text/plain": [
       "0"
      ]
     },
     "execution_count": 22,
     "metadata": {},
     "output_type": "execute_result"
    }
   ],
   "source": [
    "bnb(solver)"
   ]
  },
  {
   "cell_type": "code",
   "execution_count": 23,
   "metadata": {},
   "outputs": [
    {
     "data": {
      "text/plain": [
       "24.0"
      ]
     },
     "execution_count": 23,
     "metadata": {},
     "output_type": "execute_result"
    }
   ],
   "source": [
    "best"
   ]
  },
  {
   "cell_type": "code",
   "execution_count": 24,
   "metadata": {},
   "outputs": [
    {
     "data": {
      "text/plain": [
       "'kipling.png'"
      ]
     },
     "execution_count": 24,
     "metadata": {},
     "output_type": "execute_result"
    }
   ],
   "source": [
    "dot.render('kipling', view=True)  "
   ]
  }
 ],
 "metadata": {
  "kernelspec": {
   "display_name": "Python 3",
   "language": "python",
   "name": "python3"
  },
  "language_info": {
   "codemirror_mode": {
    "name": "ipython",
    "version": 3
   },
   "file_extension": ".py",
   "mimetype": "text/x-python",
   "name": "python",
   "nbconvert_exporter": "python",
   "pygments_lexer": "ipython3",
   "version": "3.7.6"
  }
 },
 "nbformat": 4,
 "nbformat_minor": 4
}
